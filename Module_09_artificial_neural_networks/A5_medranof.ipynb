{
  "nbformat": 4,
  "nbformat_minor": 0,
  "metadata": {
    "kernelspec": {
      "display_name": "Python 3",
      "language": "python",
      "name": "python3"
    },
    "language_info": {
      "codemirror_mode": {
        "name": "ipython",
        "version": 3
      },
      "file_extension": ".py",
      "mimetype": "text/x-python",
      "name": "python",
      "nbconvert_exporter": "python",
      "pygments_lexer": "ipython3",
      "version": "3.6.5"
    },
    "colab": {
      "name": "A5_medranof.ipynb",
      "provenance": [],
      "collapsed_sections": [
        "2u-hfaHC-6qb"
      ],
      "toc_visible": true,
      "include_colab_link": true
    },
    "accelerator": "GPU"
  },
  "cells": [
    {
      "cell_type": "markdown",
      "metadata": {
        "id": "view-in-github",
        "colab_type": "text"
      },
      "source": [
        "<a href=\"https://colab.research.google.com/github/FelixMedrano/Intro-to-artificial-intelligence/blob/main/Module_09_artificial_neural_networks/A5_medranof.ipynb\" target=\"_parent\"><img src=\"https://colab.research.google.com/assets/colab-badge.svg\" alt=\"Open In Colab\"/></a>"
      ]
    },
    {
      "cell_type": "markdown",
      "metadata": {
        "id": "Whf_8TEO-6qX"
      },
      "source": [
        "# CAP 4630 - Intro to AI\n",
        "## Summer 2021 - Dr Marques\n",
        "## Assignment 5\n",
        "\n",
        "Deep learning solutions for: \n",
        "- Binary classification of movie reviews using the IMDB dataset\n",
        "- Multiclass classification of newswires using the Reuters dataset\n",
        "- Regression for house price estimation using the Boston Housing Price dataset"
      ]
    },
    {
      "cell_type": "markdown",
      "metadata": {
        "id": "ENJ-fW-KJDRD"
      },
      "source": [
        "A working version of this code is available in colab:\n",
        "\n",
        "https://colab.research.google.com/drive/11oJMqTrTRUh5rct332x192nRnifIHTQj?usp=sharing\n"
      ]
    },
    {
      "cell_type": "markdown",
      "metadata": {
        "id": "32AXUOrLxvoD"
      },
      "source": [
        "Useful references and sources:\n",
        "\n",
        "- https://keras.io/api/datasets/imdb/\n",
        "- https://www.tensorflow.org/datasets/catalog/imdb_reviews\n",
        "- https://www.tensorflow.org/tutorials/keras/text_classification_with_hub\n",
        "- https://colab.research.google.com/github/fchollet/deep-learning-with-python-notebooks/blob/master/chapter04_getting-started-with-neural-networks.ipynb \n",
        "- https://developers.google.com/machine-learning/guides/text-classification/\n",
        "- https://machinelearningmastery.com/sequence-classification-lstm-recurrent-neural-networks-python-keras/"
      ]
    },
    {
      "cell_type": "markdown",
      "metadata": {
        "id": "o_i0NIxeykr0"
      },
      "source": [
        "#### (OPTIONAL) TODO 1\n",
        "\n",
        "Add your own sources and references here."
      ]
    },
    {
      "cell_type": "markdown",
      "metadata": {
        "id": "2u-hfaHC-6qb"
      },
      "source": [
        "## Setup"
      ]
    },
    {
      "cell_type": "code",
      "metadata": {
        "id": "1H7CSr4a-6qb"
      },
      "source": [
        "from tensorflow import keras\n",
        "from keras.datasets import mnist\n",
        "from keras.models import Sequential\n",
        "from keras.layers import Dense\n",
        "from keras.optimizers import SGD\n",
        "from tensorflow.keras import layers\n",
        "from matplotlib import pyplot as plt\n",
        "import numpy as np"
      ],
      "execution_count": 16,
      "outputs": []
    },
    {
      "cell_type": "markdown",
      "metadata": {
        "id": "BEn1cfWJ-6rH"
      },
      "source": [
        "## PART 1 - Binary classification of movie reviews using the IMDB dataset\n",
        "\n",
        "We will start with a simple solution using a fully-connected neural network architecture. "
      ]
    },
    {
      "cell_type": "markdown",
      "metadata": {
        "id": "dxNd2jV5-6qg"
      },
      "source": [
        "### Load and prepare the data"
      ]
    },
    {
      "cell_type": "code",
      "metadata": {
        "id": "EgbHPf85SWy8",
        "colab": {
          "base_uri": "https://localhost:8080/"
        },
        "outputId": "d2a94186-35f7-44ac-a3d5-53a607e48e7b"
      },
      "source": [
        "from tensorflow.keras.datasets import imdb\n",
        "(train_data, train_labels), (test_data, test_labels) = imdb.load_data(\n",
        "    num_words=10000)"
      ],
      "execution_count": 17,
      "outputs": [
        {
          "output_type": "stream",
          "text": [
            "<string>:6: VisibleDeprecationWarning: Creating an ndarray from ragged nested sequences (which is a list-or-tuple of lists-or-tuples-or ndarrays with different lengths or shapes) is deprecated. If you meant to do this, you must specify 'dtype=object' when creating the ndarray\n",
            "/usr/local/lib/python3.7/dist-packages/tensorflow/python/keras/datasets/imdb.py:155: VisibleDeprecationWarning: Creating an ndarray from ragged nested sequences (which is a list-or-tuple of lists-or-tuples-or ndarrays with different lengths or shapes) is deprecated. If you meant to do this, you must specify 'dtype=object' when creating the ndarray\n",
            "  x_train, y_train = np.array(xs[:idx]), np.array(labels[:idx])\n",
            "/usr/local/lib/python3.7/dist-packages/tensorflow/python/keras/datasets/imdb.py:156: VisibleDeprecationWarning: Creating an ndarray from ragged nested sequences (which is a list-or-tuple of lists-or-tuples-or ndarrays with different lengths or shapes) is deprecated. If you meant to do this, you must specify 'dtype=object' when creating the ndarray\n",
            "  x_test, y_test = np.array(xs[idx:]), np.array(labels[idx:])\n"
          ],
          "name": "stderr"
        }
      ]
    },
    {
      "cell_type": "code",
      "metadata": {
        "id": "Gm-ng4uVSWy9",
        "colab": {
          "base_uri": "https://localhost:8080/"
        },
        "outputId": "286232ef-6eec-449b-cc87-fa82f0dbfc4d"
      },
      "source": [
        "train_data[0]"
      ],
      "execution_count": 18,
      "outputs": [
        {
          "output_type": "execute_result",
          "data": {
            "text/plain": [
              "[1,\n",
              " 14,\n",
              " 22,\n",
              " 16,\n",
              " 43,\n",
              " 530,\n",
              " 973,\n",
              " 1622,\n",
              " 1385,\n",
              " 65,\n",
              " 458,\n",
              " 4468,\n",
              " 66,\n",
              " 3941,\n",
              " 4,\n",
              " 173,\n",
              " 36,\n",
              " 256,\n",
              " 5,\n",
              " 25,\n",
              " 100,\n",
              " 43,\n",
              " 838,\n",
              " 112,\n",
              " 50,\n",
              " 670,\n",
              " 2,\n",
              " 9,\n",
              " 35,\n",
              " 480,\n",
              " 284,\n",
              " 5,\n",
              " 150,\n",
              " 4,\n",
              " 172,\n",
              " 112,\n",
              " 167,\n",
              " 2,\n",
              " 336,\n",
              " 385,\n",
              " 39,\n",
              " 4,\n",
              " 172,\n",
              " 4536,\n",
              " 1111,\n",
              " 17,\n",
              " 546,\n",
              " 38,\n",
              " 13,\n",
              " 447,\n",
              " 4,\n",
              " 192,\n",
              " 50,\n",
              " 16,\n",
              " 6,\n",
              " 147,\n",
              " 2025,\n",
              " 19,\n",
              " 14,\n",
              " 22,\n",
              " 4,\n",
              " 1920,\n",
              " 4613,\n",
              " 469,\n",
              " 4,\n",
              " 22,\n",
              " 71,\n",
              " 87,\n",
              " 12,\n",
              " 16,\n",
              " 43,\n",
              " 530,\n",
              " 38,\n",
              " 76,\n",
              " 15,\n",
              " 13,\n",
              " 1247,\n",
              " 4,\n",
              " 22,\n",
              " 17,\n",
              " 515,\n",
              " 17,\n",
              " 12,\n",
              " 16,\n",
              " 626,\n",
              " 18,\n",
              " 2,\n",
              " 5,\n",
              " 62,\n",
              " 386,\n",
              " 12,\n",
              " 8,\n",
              " 316,\n",
              " 8,\n",
              " 106,\n",
              " 5,\n",
              " 4,\n",
              " 2223,\n",
              " 5244,\n",
              " 16,\n",
              " 480,\n",
              " 66,\n",
              " 3785,\n",
              " 33,\n",
              " 4,\n",
              " 130,\n",
              " 12,\n",
              " 16,\n",
              " 38,\n",
              " 619,\n",
              " 5,\n",
              " 25,\n",
              " 124,\n",
              " 51,\n",
              " 36,\n",
              " 135,\n",
              " 48,\n",
              " 25,\n",
              " 1415,\n",
              " 33,\n",
              " 6,\n",
              " 22,\n",
              " 12,\n",
              " 215,\n",
              " 28,\n",
              " 77,\n",
              " 52,\n",
              " 5,\n",
              " 14,\n",
              " 407,\n",
              " 16,\n",
              " 82,\n",
              " 2,\n",
              " 8,\n",
              " 4,\n",
              " 107,\n",
              " 117,\n",
              " 5952,\n",
              " 15,\n",
              " 256,\n",
              " 4,\n",
              " 2,\n",
              " 7,\n",
              " 3766,\n",
              " 5,\n",
              " 723,\n",
              " 36,\n",
              " 71,\n",
              " 43,\n",
              " 530,\n",
              " 476,\n",
              " 26,\n",
              " 400,\n",
              " 317,\n",
              " 46,\n",
              " 7,\n",
              " 4,\n",
              " 2,\n",
              " 1029,\n",
              " 13,\n",
              " 104,\n",
              " 88,\n",
              " 4,\n",
              " 381,\n",
              " 15,\n",
              " 297,\n",
              " 98,\n",
              " 32,\n",
              " 2071,\n",
              " 56,\n",
              " 26,\n",
              " 141,\n",
              " 6,\n",
              " 194,\n",
              " 7486,\n",
              " 18,\n",
              " 4,\n",
              " 226,\n",
              " 22,\n",
              " 21,\n",
              " 134,\n",
              " 476,\n",
              " 26,\n",
              " 480,\n",
              " 5,\n",
              " 144,\n",
              " 30,\n",
              " 5535,\n",
              " 18,\n",
              " 51,\n",
              " 36,\n",
              " 28,\n",
              " 224,\n",
              " 92,\n",
              " 25,\n",
              " 104,\n",
              " 4,\n",
              " 226,\n",
              " 65,\n",
              " 16,\n",
              " 38,\n",
              " 1334,\n",
              " 88,\n",
              " 12,\n",
              " 16,\n",
              " 283,\n",
              " 5,\n",
              " 16,\n",
              " 4472,\n",
              " 113,\n",
              " 103,\n",
              " 32,\n",
              " 15,\n",
              " 16,\n",
              " 5345,\n",
              " 19,\n",
              " 178,\n",
              " 32]"
            ]
          },
          "metadata": {
            "tags": []
          },
          "execution_count": 18
        }
      ]
    },
    {
      "cell_type": "code",
      "metadata": {
        "id": "T_UQLHcbSWy9",
        "colab": {
          "base_uri": "https://localhost:8080/"
        },
        "outputId": "73576290-b507-48dd-aaf2-5af3d6b47608"
      },
      "source": [
        "train_labels[0]"
      ],
      "execution_count": 19,
      "outputs": [
        {
          "output_type": "execute_result",
          "data": {
            "text/plain": [
              "1"
            ]
          },
          "metadata": {
            "tags": []
          },
          "execution_count": 19
        }
      ]
    },
    {
      "cell_type": "code",
      "metadata": {
        "id": "OkzPHbDISWy-",
        "colab": {
          "base_uri": "https://localhost:8080/"
        },
        "outputId": "27b8c5b2-949e-46ac-de9b-d3b9f28f9d6c"
      },
      "source": [
        "max([max(sequence) for sequence in train_data])"
      ],
      "execution_count": 20,
      "outputs": [
        {
          "output_type": "execute_result",
          "data": {
            "text/plain": [
              "9999"
            ]
          },
          "metadata": {
            "tags": []
          },
          "execution_count": 20
        }
      ]
    },
    {
      "cell_type": "markdown",
      "metadata": {
        "id": "a14ENstYSWy-"
      },
      "source": [
        "### Decoding reviews back to text"
      ]
    },
    {
      "cell_type": "code",
      "metadata": {
        "id": "a1t1h2AgSWy-"
      },
      "source": [
        "word_index = imdb.get_word_index()\n",
        "reverse_word_index = dict(\n",
        "    [(value, key) for (key, value) in word_index.items()])\n",
        "decoded_review = \" \".join(\n",
        "    [reverse_word_index.get(i - 3, \"?\") for i in train_data[0]])"
      ],
      "execution_count": 21,
      "outputs": []
    },
    {
      "cell_type": "markdown",
      "metadata": {
        "id": "w9hkDy4ESWy_"
      },
      "source": [
        "### Preparing the data"
      ]
    },
    {
      "cell_type": "markdown",
      "metadata": {
        "id": "Qjq7wFSISWy_"
      },
      "source": [
        "#### Encoding the integer sequences via multi-hot encoding"
      ]
    },
    {
      "cell_type": "code",
      "metadata": {
        "id": "nZD-izxWSWy_"
      },
      "source": [
        "import numpy as np\n",
        "\n",
        "def vectorize_sequences(sequences, dimension=10000):\n",
        "    results = np.zeros((len(sequences), dimension))\n",
        "    for i, sequence in enumerate(sequences):\n",
        "        for j in sequence:\n",
        "            results[i, j] = 1.\n",
        "    return results\n",
        "x_train = vectorize_sequences(train_data)\n",
        "x_test = vectorize_sequences(test_data)"
      ],
      "execution_count": 22,
      "outputs": []
    },
    {
      "cell_type": "code",
      "metadata": {
        "id": "1HXEpTCfSWy_",
        "colab": {
          "base_uri": "https://localhost:8080/"
        },
        "outputId": "aa9224f4-d21c-4ee5-cc5d-522d757e6df9"
      },
      "source": [
        "x_train[0]"
      ],
      "execution_count": 23,
      "outputs": [
        {
          "output_type": "execute_result",
          "data": {
            "text/plain": [
              "array([0., 1., 1., ..., 0., 0., 0.])"
            ]
          },
          "metadata": {
            "tags": []
          },
          "execution_count": 23
        }
      ]
    },
    {
      "cell_type": "code",
      "metadata": {
        "id": "RBzY7qPASWy_"
      },
      "source": [
        "y_train = np.asarray(train_labels).astype(\"float32\")\n",
        "y_test = np.asarray(test_labels).astype(\"float32\")"
      ],
      "execution_count": 24,
      "outputs": []
    },
    {
      "cell_type": "markdown",
      "metadata": {
        "id": "96PvZIXicgJu"
      },
      "source": [
        "### (OPTIONAL) TODO 2\n",
        "\n",
        "Write code to show two examples of reviews (in plain text), one labeled as _positive_, another labeled as _negative_."
      ]
    },
    {
      "cell_type": "markdown",
      "metadata": {
        "id": "GxHU8-BiSWy_"
      },
      "source": [
        "### Building your model"
      ]
    },
    {
      "cell_type": "markdown",
      "metadata": {
        "id": "jv_k78mmSWy_"
      },
      "source": [
        "#### Model definition"
      ]
    },
    {
      "cell_type": "code",
      "metadata": {
        "id": "IQzf7F7USWzA"
      },
      "source": [
        "from tensorflow import keras\n",
        "from tensorflow.keras import layers\n",
        "\n",
        "model = keras.Sequential([\n",
        "    layers.Dense(16, activation=\"relu\"),\n",
        "    layers.Dense(16, activation=\"relu\"),\n",
        "    layers.Dense(1, activation=\"sigmoid\")\n",
        "])"
      ],
      "execution_count": 25,
      "outputs": []
    },
    {
      "cell_type": "markdown",
      "metadata": {
        "id": "DasM7UfASWzA"
      },
      "source": [
        "#### Compiling the model"
      ]
    },
    {
      "cell_type": "code",
      "metadata": {
        "id": "BWSLlZC4SWzA"
      },
      "source": [
        "model.compile(optimizer=\"rmsprop\",\n",
        "              loss=\"binary_crossentropy\",\n",
        "              metrics=[\"accuracy\"])"
      ],
      "execution_count": 26,
      "outputs": []
    },
    {
      "cell_type": "markdown",
      "metadata": {
        "id": "oUth-9BtSWzA"
      },
      "source": [
        "### Validating your approach"
      ]
    },
    {
      "cell_type": "markdown",
      "metadata": {
        "id": "XsEbLv3eSWzA"
      },
      "source": [
        "#### Setting aside a validation set"
      ]
    },
    {
      "cell_type": "code",
      "metadata": {
        "id": "CNxpNUwPSWzA"
      },
      "source": [
        "x_val = x_train[:10000]\n",
        "partial_x_train = x_train[10000:]\n",
        "y_val = y_train[:10000]\n",
        "partial_y_train = y_train[10000:]"
      ],
      "execution_count": 27,
      "outputs": []
    },
    {
      "cell_type": "markdown",
      "metadata": {
        "id": "A3ye0OxsSWzA"
      },
      "source": [
        "#### Training your model"
      ]
    },
    {
      "cell_type": "code",
      "metadata": {
        "id": "o3rFuAH8SWzA",
        "colab": {
          "base_uri": "https://localhost:8080/"
        },
        "outputId": "f1677c8e-1f07-4a7d-9406-2de0e1863da3"
      },
      "source": [
        "history = model.fit(partial_x_train,\n",
        "                    partial_y_train,\n",
        "                    epochs=20,\n",
        "                    batch_size=512,\n",
        "                    validation_data=(x_val, y_val))"
      ],
      "execution_count": 28,
      "outputs": [
        {
          "output_type": "stream",
          "text": [
            "Epoch 1/20\n",
            "30/30 [==============================] - 4s 32ms/step - loss: 0.5241 - accuracy: 0.7873 - val_loss: 0.4085 - val_accuracy: 0.8523\n",
            "Epoch 2/20\n",
            "30/30 [==============================] - 1s 22ms/step - loss: 0.3181 - accuracy: 0.9011 - val_loss: 0.3126 - val_accuracy: 0.8838\n",
            "Epoch 3/20\n",
            "30/30 [==============================] - 1s 21ms/step - loss: 0.2296 - accuracy: 0.9285 - val_loss: 0.2813 - val_accuracy: 0.8899\n",
            "Epoch 4/20\n",
            "30/30 [==============================] - 1s 21ms/step - loss: 0.1804 - accuracy: 0.9426 - val_loss: 0.2755 - val_accuracy: 0.8893\n",
            "Epoch 5/20\n",
            "30/30 [==============================] - 1s 21ms/step - loss: 0.1481 - accuracy: 0.9527 - val_loss: 0.2909 - val_accuracy: 0.8843\n",
            "Epoch 6/20\n",
            "30/30 [==============================] - 1s 21ms/step - loss: 0.1232 - accuracy: 0.9617 - val_loss: 0.2908 - val_accuracy: 0.8862\n",
            "Epoch 7/20\n",
            "30/30 [==============================] - 1s 21ms/step - loss: 0.1030 - accuracy: 0.9698 - val_loss: 0.3263 - val_accuracy: 0.8821\n",
            "Epoch 8/20\n",
            "30/30 [==============================] - 1s 21ms/step - loss: 0.0847 - accuracy: 0.9769 - val_loss: 0.3713 - val_accuracy: 0.8725\n",
            "Epoch 9/20\n",
            "30/30 [==============================] - 1s 22ms/step - loss: 0.0702 - accuracy: 0.9819 - val_loss: 0.3724 - val_accuracy: 0.8749\n",
            "Epoch 10/20\n",
            "30/30 [==============================] - 1s 21ms/step - loss: 0.0612 - accuracy: 0.9835 - val_loss: 0.3653 - val_accuracy: 0.8796\n",
            "Epoch 11/20\n",
            "30/30 [==============================] - 1s 21ms/step - loss: 0.0505 - accuracy: 0.9879 - val_loss: 0.3912 - val_accuracy: 0.8785\n",
            "Epoch 12/20\n",
            "30/30 [==============================] - 1s 21ms/step - loss: 0.0419 - accuracy: 0.9898 - val_loss: 0.4182 - val_accuracy: 0.8747\n",
            "Epoch 13/20\n",
            "30/30 [==============================] - 1s 21ms/step - loss: 0.0301 - accuracy: 0.9949 - val_loss: 0.4459 - val_accuracy: 0.8724\n",
            "Epoch 14/20\n",
            "30/30 [==============================] - 1s 21ms/step - loss: 0.0275 - accuracy: 0.9951 - val_loss: 0.4741 - val_accuracy: 0.8719\n",
            "Epoch 15/20\n",
            "30/30 [==============================] - 1s 21ms/step - loss: 0.0210 - accuracy: 0.9971 - val_loss: 0.5053 - val_accuracy: 0.8692\n",
            "Epoch 16/20\n",
            "30/30 [==============================] - 1s 21ms/step - loss: 0.0189 - accuracy: 0.9971 - val_loss: 0.5442 - val_accuracy: 0.8705\n",
            "Epoch 17/20\n",
            "30/30 [==============================] - 1s 21ms/step - loss: 0.0125 - accuracy: 0.9989 - val_loss: 0.6071 - val_accuracy: 0.8573\n",
            "Epoch 18/20\n",
            "30/30 [==============================] - 1s 21ms/step - loss: 0.0124 - accuracy: 0.9983 - val_loss: 0.6025 - val_accuracy: 0.8677\n",
            "Epoch 19/20\n",
            "30/30 [==============================] - 1s 21ms/step - loss: 0.0089 - accuracy: 0.9993 - val_loss: 0.6332 - val_accuracy: 0.8650\n",
            "Epoch 20/20\n",
            "30/30 [==============================] - 1s 21ms/step - loss: 0.0053 - accuracy: 0.9999 - val_loss: 0.6750 - val_accuracy: 0.8624\n"
          ],
          "name": "stdout"
        }
      ]
    },
    {
      "cell_type": "code",
      "metadata": {
        "id": "Z3PLDcnqSWzA",
        "colab": {
          "base_uri": "https://localhost:8080/"
        },
        "outputId": "d4825092-59e1-4216-8d98-ef1ca211c40f"
      },
      "source": [
        "history_dict = history.history\n",
        "history_dict.keys()"
      ],
      "execution_count": 29,
      "outputs": [
        {
          "output_type": "execute_result",
          "data": {
            "text/plain": [
              "dict_keys(['loss', 'accuracy', 'val_loss', 'val_accuracy'])"
            ]
          },
          "metadata": {
            "tags": []
          },
          "execution_count": 29
        }
      ]
    },
    {
      "cell_type": "markdown",
      "metadata": {
        "id": "mOAiUESnSWzA"
      },
      "source": [
        "#### Plotting the training and validation loss"
      ]
    },
    {
      "cell_type": "code",
      "metadata": {
        "id": "v8FYYH2ASWzA",
        "colab": {
          "base_uri": "https://localhost:8080/",
          "height": 295
        },
        "outputId": "f2e7feb7-2175-4a6d-a554-132cd66988a6"
      },
      "source": [
        "import matplotlib.pyplot as plt\n",
        "history_dict = history.history\n",
        "loss_values = history_dict[\"loss\"]\n",
        "val_loss_values = history_dict[\"val_loss\"]\n",
        "epochs = range(1, len(loss_values) + 1)\n",
        "plt.plot(epochs, loss_values, \"bo\", label=\"Training loss\")\n",
        "plt.plot(epochs, val_loss_values, \"b\", label=\"Validation loss\")\n",
        "plt.title(\"Training and validation loss\")\n",
        "plt.xlabel(\"Epochs\")\n",
        "plt.ylabel(\"Loss\")\n",
        "plt.legend()\n",
        "plt.show()"
      ],
      "execution_count": 30,
      "outputs": [
        {
          "output_type": "display_data",
          "data": {
            "image/png": "[encoded data removed]",
            "text/plain": [
              "<Figure size 432x288 with 1 Axes>"
            ]
          },
          "metadata": {
            "tags": [],
            "needs_background": "light"
          }
        }
      ]
    },
    {
      "cell_type": "markdown",
      "metadata": {
        "id": "Y5dKUKfOSWzA"
      },
      "source": [
        "#### Plotting the training and validation accuracy"
      ]
    },
    {
      "cell_type": "code",
      "metadata": {
        "id": "MyWdgytcSWzA",
        "colab": {
          "base_uri": "https://localhost:8080/",
          "height": 295
        },
        "outputId": "f37b8c54-5d11-401f-c931-536d1c3306f2"
      },
      "source": [
        "plt.clf()\n",
        "acc = history_dict[\"accuracy\"]\n",
        "val_acc = history_dict[\"val_accuracy\"]\n",
        "plt.plot(epochs, acc, \"bo\", label=\"Training acc\")\n",
        "plt.plot(epochs, val_acc, \"b\", label=\"Validation acc\")\n",
        "plt.title(\"Training and validation accuracy\")\n",
        "plt.xlabel(\"Epochs\")\n",
        "plt.ylabel(\"Accuracy\")\n",
        "plt.legend()\n",
        "plt.show()"
      ],
      "execution_count": 31,
      "outputs": [
        {
          "output_type": "display_data",
          "data": {
            "image/png": "[encoded data removed]",
            "text/plain": [
              "<Figure size 432x288 with 1 Axes>"
            ]
          },
          "metadata": {
            "tags": [],
            "needs_background": "light"
          }
        }
      ]
    },
    {
      "cell_type": "markdown",
      "metadata": {
        "id": "lJetC7rA36VT"
      },
      "source": [
        "### (OPTIONAL) TODO 3\n",
        "\n",
        "Write code to display 2 cases (one false positive, one false negative) where the classifier makes mistakes. Make sure to display both the true value as well as the predicted value.\n",
        "\n",
        "Comment on the mistakes and what you believe might have caused each of them. "
      ]
    },
    {
      "cell_type": "markdown",
      "metadata": {
        "id": "dmlYOsbMxY-d"
      },
      "source": [
        "### (OPTIONAL) TODO 4\n",
        "\n",
        "Write code to try different combinations of:\n",
        "- numbers of hidden layers and units per layer \n",
        "- loss functions\n",
        "- activation functions\n",
        "\n",
        "Please refrain from using better architectures (RNN, LSTM, etc.) and \"advanced\" techniques to curb overfitting (e.g., dropout, batch normalization, weight regularization, etc.)"
      ]
    },
    {
      "cell_type": "markdown",
      "metadata": {
        "id": "DC8hWwWXSWzB"
      },
      "source": [
        "### Retraining a model from scratch"
      ]
    },
    {
      "cell_type": "code",
      "metadata": {
        "id": "weIyYseLSWzB",
        "colab": {
          "base_uri": "https://localhost:8080/"
        },
        "outputId": "88080c9c-367c-43eb-a7b5-df781d6bbea7"
      },
      "source": [
        "model = keras.Sequential([\n",
        "    layers.Dense(16, activation=\"relu\"),\n",
        "    layers.Dense(16, activation=\"relu\"),\n",
        "    layers.Dense(1, activation=\"sigmoid\")\n",
        "])\n",
        "model.compile(optimizer=\"rmsprop\",\n",
        "              loss=\"binary_crossentropy\",\n",
        "              metrics=[\"accuracy\"])\n",
        "model.fit(x_train, y_train, epochs=4, batch_size=512)\n",
        "results = model.evaluate(x_test, y_test)"
      ],
      "execution_count": 32,
      "outputs": [
        {
          "output_type": "stream",
          "text": [
            "Epoch 1/4\n",
            "49/49 [==============================] - 1s 13ms/step - loss: 0.4515 - accuracy: 0.8301\n",
            "Epoch 2/4\n",
            "49/49 [==============================] - 1s 14ms/step - loss: 0.2624 - accuracy: 0.9101\n",
            "Epoch 3/4\n",
            "49/49 [==============================] - 1s 14ms/step - loss: 0.2024 - accuracy: 0.9269\n",
            "Epoch 4/4\n",
            "49/49 [==============================] - 1s 13ms/step - loss: 0.1719 - accuracy: 0.9390\n",
            "782/782 [==============================] - 2s 3ms/step - loss: 0.3052 - accuracy: 0.8776\n"
          ],
          "name": "stdout"
        }
      ]
    },
    {
      "cell_type": "code",
      "metadata": {
        "id": "EqY1f04mSWzB"
      },
      "source": [
        ""
      ],
      "execution_count": 32,
      "outputs": []
    },
    {
      "cell_type": "markdown",
      "metadata": {
        "id": "3D46qt5-SWzB"
      },
      "source": [
        "### Using a trained model to generate predictions on new data"
      ]
    },
    {
      "cell_type": "code",
      "metadata": {
        "id": "ikqtBwDHSWzB",
        "colab": {
          "base_uri": "https://localhost:8080/"
        },
        "outputId": "8672c58b-bc08-4dc6-e3be-56e22d5af283"
      },
      "source": [
        "model.predict(x_test)"
      ],
      "execution_count": 33,
      "outputs": [
        {
          "output_type": "execute_result",
          "data": {
            "text/plain": [
              "array([[0.18338269],\n",
              "       [0.9996753 ],\n",
              "       [0.63927436],\n",
              "       ...,\n",
              "       [0.06207733],\n",
              "       [0.07034046],\n",
              "       [0.44174525]], dtype=float32)"
            ]
          },
          "metadata": {
            "tags": []
          },
          "execution_count": 33
        }
      ]
    },
    {
      "cell_type": "markdown",
      "metadata": {
        "id": "C15mmBXeW3ZG"
      },
      "source": [
        "## PART 2 - Multiclass classification of newswires using the Reuters dataset\n",
        "\n",
        "Once again, we will start with a simple solution using a fully-connected neural network architecture. "
      ]
    },
    {
      "cell_type": "markdown",
      "metadata": {
        "id": "mlFE0npdxh6j"
      },
      "source": [
        "### The Reuters dataset"
      ]
    },
    {
      "cell_type": "markdown",
      "metadata": {
        "id": "2rlaaGT5xh6j"
      },
      "source": [
        "#### Loading the Reuters dataset"
      ]
    },
    {
      "cell_type": "code",
      "metadata": {
        "id": "mF_v9mnCxh6k",
        "colab": {
          "base_uri": "https://localhost:8080/"
        },
        "outputId": "961bdcb1-36d6-49df-c242-2ec36e1f72c7"
      },
      "source": [
        "from tensorflow.keras.datasets import reuters\n",
        "(train_data, train_labels), (test_data, test_labels) = reuters.load_data(\n",
        "    num_words=10000)"
      ],
      "execution_count": 34,
      "outputs": [
        {
          "output_type": "stream",
          "text": [
            "Downloading data from https://storage.googleapis.com/tensorflow/tf-keras-datasets/reuters.npz\n",
            "2113536/2110848 [==============================] - 0s 0us/step\n"
          ],
          "name": "stdout"
        },
        {
          "output_type": "stream",
          "text": [
            "/usr/local/lib/python3.7/dist-packages/tensorflow/python/keras/datasets/reuters.py:143: VisibleDeprecationWarning: Creating an ndarray from ragged nested sequences (which is a list-or-tuple of lists-or-tuples-or ndarrays with different lengths or shapes) is deprecated. If you meant to do this, you must specify 'dtype=object' when creating the ndarray\n",
            "  x_train, y_train = np.array(xs[:idx]), np.array(labels[:idx])\n",
            "/usr/local/lib/python3.7/dist-packages/tensorflow/python/keras/datasets/reuters.py:144: VisibleDeprecationWarning: Creating an ndarray from ragged nested sequences (which is a list-or-tuple of lists-or-tuples-or ndarrays with different lengths or shapes) is deprecated. If you meant to do this, you must specify 'dtype=object' when creating the ndarray\n",
            "  x_test, y_test = np.array(xs[idx:]), np.array(labels[idx:])\n"
          ],
          "name": "stderr"
        }
      ]
    },
    {
      "cell_type": "code",
      "metadata": {
        "id": "a9HDPrTzxh6k",
        "colab": {
          "base_uri": "https://localhost:8080/"
        },
        "outputId": "6faae0df-28ab-4f21-da65-6db5ad53c69d"
      },
      "source": [
        "len(train_data)"
      ],
      "execution_count": 35,
      "outputs": [
        {
          "output_type": "execute_result",
          "data": {
            "text/plain": [
              "8982"
            ]
          },
          "metadata": {
            "tags": []
          },
          "execution_count": 35
        }
      ]
    },
    {
      "cell_type": "code",
      "metadata": {
        "id": "chhwyrjsxh6k",
        "colab": {
          "base_uri": "https://localhost:8080/"
        },
        "outputId": "b3567b6c-caea-49bb-d303-c3462e2aad69"
      },
      "source": [
        "len(test_data)"
      ],
      "execution_count": 36,
      "outputs": [
        {
          "output_type": "execute_result",
          "data": {
            "text/plain": [
              "2246"
            ]
          },
          "metadata": {
            "tags": []
          },
          "execution_count": 36
        }
      ]
    },
    {
      "cell_type": "code",
      "metadata": {
        "id": "6MLEiOe6xh6k",
        "colab": {
          "base_uri": "https://localhost:8080/"
        },
        "outputId": "917b08a8-afb7-44fd-ec10-5cc1cf3a7bcf"
      },
      "source": [
        "train_data[10]"
      ],
      "execution_count": 37,
      "outputs": [
        {
          "output_type": "execute_result",
          "data": {
            "text/plain": [
              "[1,\n",
              " 245,\n",
              " 273,\n",
              " 207,\n",
              " 156,\n",
              " 53,\n",
              " 74,\n",
              " 160,\n",
              " 26,\n",
              " 14,\n",
              " 46,\n",
              " 296,\n",
              " 26,\n",
              " 39,\n",
              " 74,\n",
              " 2979,\n",
              " 3554,\n",
              " 14,\n",
              " 46,\n",
              " 4689,\n",
              " 4329,\n",
              " 86,\n",
              " 61,\n",
              " 3499,\n",
              " 4795,\n",
              " 14,\n",
              " 61,\n",
              " 451,\n",
              " 4329,\n",
              " 17,\n",
              " 12]"
            ]
          },
          "metadata": {
            "tags": []
          },
          "execution_count": 37
        }
      ]
    },
    {
      "cell_type": "markdown",
      "metadata": {
        "id": "ndgmqtEpxh6k"
      },
      "source": [
        "#### Decoding newswires back to text"
      ]
    },
    {
      "cell_type": "code",
      "metadata": {
        "id": "ldaiUmBGxh6k",
        "colab": {
          "base_uri": "https://localhost:8080/"
        },
        "outputId": "7392781a-1e8c-43eb-8732-9bd4e70b97f8"
      },
      "source": [
        "word_index = reuters.get_word_index()\n",
        "reverse_word_index = dict([(value, key) for (key, value) in word_index.items()])\n",
        "decoded_newswire = \" \".join([reverse_word_index.get(i - 3, \"?\") for i in\n",
        "    train_data[0]])"
      ],
      "execution_count": 38,
      "outputs": [
        {
          "output_type": "stream",
          "text": [
            "Downloading data from https://storage.googleapis.com/tensorflow/tf-keras-datasets/reuters_word_index.json\n",
            "557056/550378 [==============================] - 0s 0us/step\n"
          ],
          "name": "stdout"
        }
      ]
    },
    {
      "cell_type": "code",
      "metadata": {
        "id": "2-khNfkkxh6k",
        "colab": {
          "base_uri": "https://localhost:8080/"
        },
        "outputId": "853662ab-ad76-4cd9-a719-0ab6eb012e16"
      },
      "source": [
        "train_labels[10]"
      ],
      "execution_count": 39,
      "outputs": [
        {
          "output_type": "execute_result",
          "data": {
            "text/plain": [
              "3"
            ]
          },
          "metadata": {
            "tags": []
          },
          "execution_count": 39
        }
      ]
    },
    {
      "cell_type": "markdown",
      "metadata": {
        "id": "4WwJMB6Gxh6k"
      },
      "source": [
        "### Preparing the data"
      ]
    },
    {
      "cell_type": "markdown",
      "metadata": {
        "id": "yMs-iTejxh6k"
      },
      "source": [
        "#### Encoding the input data"
      ]
    },
    {
      "cell_type": "code",
      "metadata": {
        "id": "zds63peXxh6k"
      },
      "source": [
        "x_train = vectorize_sequences(train_data)\n",
        "x_test = vectorize_sequences(test_data)"
      ],
      "execution_count": 40,
      "outputs": []
    },
    {
      "cell_type": "markdown",
      "metadata": {
        "id": "6bncEBgYxh6k"
      },
      "source": [
        "#### Encoding the labels"
      ]
    },
    {
      "cell_type": "code",
      "metadata": {
        "id": "srqpJ7ggxh6k"
      },
      "source": [
        "def to_one_hot(labels, dimension=46):\n",
        "    results = np.zeros((len(labels), dimension))\n",
        "    for i, label in enumerate(labels):\n",
        "        results[i, label] = 1.\n",
        "    return results\n",
        "y_train = to_one_hot(train_labels)\n",
        "y_test = to_one_hot(test_labels)"
      ],
      "execution_count": 41,
      "outputs": []
    },
    {
      "cell_type": "code",
      "metadata": {
        "id": "oXv_Du2vxh6k"
      },
      "source": [
        "from tensorflow.keras.utils import to_categorical\n",
        "y_train = to_categorical(train_labels)\n",
        "y_test = to_categorical(test_labels)"
      ],
      "execution_count": 42,
      "outputs": []
    },
    {
      "cell_type": "markdown",
      "metadata": {
        "id": "5R4pX8KLxh6k"
      },
      "source": [
        "### Building your model"
      ]
    },
    {
      "cell_type": "markdown",
      "metadata": {
        "id": "uGU5Ex_gxh6k"
      },
      "source": [
        "#### Model definition"
      ]
    },
    {
      "cell_type": "code",
      "metadata": {
        "id": "lSeVv-voxh6k"
      },
      "source": [
        "model = keras.Sequential([\n",
        "    layers.Dense(64, activation=\"relu\"),\n",
        "    layers.Dense(64, activation=\"relu\"),\n",
        "    layers.Dense(46, activation=\"softmax\")\n",
        "])"
      ],
      "execution_count": 43,
      "outputs": []
    },
    {
      "cell_type": "markdown",
      "metadata": {
        "id": "Hg1Y1SpMxh6k"
      },
      "source": [
        "#### Compiling the model"
      ]
    },
    {
      "cell_type": "code",
      "metadata": {
        "id": "EInD8W2axh6k"
      },
      "source": [
        "model.compile(optimizer=\"rmsprop\",\n",
        "              loss=\"categorical_crossentropy\",\n",
        "              metrics=[\"accuracy\"])"
      ],
      "execution_count": 44,
      "outputs": []
    },
    {
      "cell_type": "markdown",
      "metadata": {
        "id": "NaBg251Axh6k"
      },
      "source": [
        "### Validating your approach"
      ]
    },
    {
      "cell_type": "markdown",
      "metadata": {
        "id": "s74Gi5vvxh6k"
      },
      "source": [
        "#### Setting aside a validation set"
      ]
    },
    {
      "cell_type": "code",
      "metadata": {
        "id": "OjMkDhn-xh6k"
      },
      "source": [
        "x_val = x_train[:1000]\n",
        "partial_x_train = x_train[1000:]\n",
        "y_val = y_train[:1000]\n",
        "partial_y_train = y_train[1000:]"
      ],
      "execution_count": 45,
      "outputs": []
    },
    {
      "cell_type": "markdown",
      "metadata": {
        "id": "0eOTJNH_xh6k"
      },
      "source": [
        "#### Training the model"
      ]
    },
    {
      "cell_type": "code",
      "metadata": {
        "id": "-B2WgrGZxh6l",
        "colab": {
          "base_uri": "https://localhost:8080/"
        },
        "outputId": "48effccf-9d06-4959-e016-3722f8583106"
      },
      "source": [
        "history = model.fit(partial_x_train,\n",
        "                    partial_y_train,\n",
        "                    epochs=20,\n",
        "                    batch_size=512,\n",
        "                    validation_data=(x_val, y_val))"
      ],
      "execution_count": 46,
      "outputs": [
        {
          "output_type": "stream",
          "text": [
            "Epoch 1/20\n",
            "16/16 [==============================] - 1s 29ms/step - loss: 2.5858 - accuracy: 0.5451 - val_loss: 1.7058 - val_accuracy: 0.6320\n",
            "Epoch 2/20\n",
            "16/16 [==============================] - 0s 16ms/step - loss: 1.3785 - accuracy: 0.7149 - val_loss: 1.2826 - val_accuracy: 0.7150\n",
            "Epoch 3/20\n",
            "16/16 [==============================] - 0s 16ms/step - loss: 1.0176 - accuracy: 0.7791 - val_loss: 1.1075 - val_accuracy: 0.7550\n",
            "Epoch 4/20\n",
            "16/16 [==============================] - 0s 16ms/step - loss: 0.7955 - accuracy: 0.8271 - val_loss: 1.0417 - val_accuracy: 0.7770\n",
            "Epoch 5/20\n",
            "16/16 [==============================] - 0s 16ms/step - loss: 0.6327 - accuracy: 0.8678 - val_loss: 0.9505 - val_accuracy: 0.7900\n",
            "Epoch 6/20\n",
            "16/16 [==============================] - 0s 17ms/step - loss: 0.5018 - accuracy: 0.8948 - val_loss: 0.9151 - val_accuracy: 0.8100\n",
            "Epoch 7/20\n",
            "16/16 [==============================] - 0s 17ms/step - loss: 0.4029 - accuracy: 0.9168 - val_loss: 0.9569 - val_accuracy: 0.8040\n",
            "Epoch 8/20\n",
            "16/16 [==============================] - 0s 16ms/step - loss: 0.3300 - accuracy: 0.9281 - val_loss: 0.9110 - val_accuracy: 0.8200\n",
            "Epoch 9/20\n",
            "16/16 [==============================] - 0s 16ms/step - loss: 0.2712 - accuracy: 0.9399 - val_loss: 0.9605 - val_accuracy: 0.8060\n",
            "Epoch 10/20\n",
            "16/16 [==============================] - 0s 16ms/step - loss: 0.2334 - accuracy: 0.9431 - val_loss: 0.9174 - val_accuracy: 0.8210\n",
            "Epoch 11/20\n",
            "16/16 [==============================] - 0s 16ms/step - loss: 0.1987 - accuracy: 0.9481 - val_loss: 0.9877 - val_accuracy: 0.8190\n",
            "Epoch 12/20\n",
            "16/16 [==============================] - 0s 17ms/step - loss: 0.1794 - accuracy: 0.9524 - val_loss: 0.9499 - val_accuracy: 0.8140\n",
            "Epoch 13/20\n",
            "16/16 [==============================] - 0s 16ms/step - loss: 0.1583 - accuracy: 0.9535 - val_loss: 0.9895 - val_accuracy: 0.8080\n",
            "Epoch 14/20\n",
            "16/16 [==============================] - 0s 16ms/step - loss: 0.1482 - accuracy: 0.9548 - val_loss: 1.1197 - val_accuracy: 0.7770\n",
            "Epoch 15/20\n",
            "16/16 [==============================] - 0s 19ms/step - loss: 0.1415 - accuracy: 0.9555 - val_loss: 1.0279 - val_accuracy: 0.8030\n",
            "Epoch 16/20\n",
            "16/16 [==============================] - 0s 16ms/step - loss: 0.1296 - accuracy: 0.9554 - val_loss: 1.0469 - val_accuracy: 0.8080\n",
            "Epoch 17/20\n",
            "16/16 [==============================] - 0s 17ms/step - loss: 0.1208 - accuracy: 0.9567 - val_loss: 1.0593 - val_accuracy: 0.8030\n",
            "Epoch 18/20\n",
            "16/16 [==============================] - 0s 16ms/step - loss: 0.1145 - accuracy: 0.9570 - val_loss: 1.1540 - val_accuracy: 0.7930\n",
            "Epoch 19/20\n",
            "16/16 [==============================] - 0s 16ms/step - loss: 0.1181 - accuracy: 0.9568 - val_loss: 1.0756 - val_accuracy: 0.8070\n",
            "Epoch 20/20\n",
            "16/16 [==============================] - 0s 16ms/step - loss: 0.1120 - accuracy: 0.9584 - val_loss: 1.0989 - val_accuracy: 0.8070\n"
          ],
          "name": "stdout"
        }
      ]
    },
    {
      "cell_type": "markdown",
      "metadata": {
        "id": "Pic3C9saxh6l"
      },
      "source": [
        "#### Plotting the training and validation loss"
      ]
    },
    {
      "cell_type": "code",
      "metadata": {
        "id": "6YiutR18xh6l",
        "colab": {
          "base_uri": "https://localhost:8080/",
          "height": 295
        },
        "outputId": "d0d812e9-77e3-475c-f439-37ea300ac143"
      },
      "source": [
        "loss = history.history[\"loss\"]\n",
        "val_loss = history.history[\"val_loss\"]\n",
        "epochs = range(1, len(loss) + 1)\n",
        "plt.plot(epochs, loss, \"bo\", label=\"Training loss\")\n",
        "plt.plot(epochs, val_loss, \"b\", label=\"Validation loss\")\n",
        "plt.title(\"Training and validation loss\")\n",
        "plt.xlabel(\"Epochs\")\n",
        "plt.ylabel(\"Loss\")\n",
        "plt.legend()\n",
        "plt.show()"
      ],
      "execution_count": 47,
      "outputs": [
        {
          "output_type": "display_data",
          "data": {
            "image/png": "[encoded data removed]",
            "text/plain": [
              "<Figure size 432x288 with 1 Axes>"
            ]
          },
          "metadata": {
            "tags": [],
            "needs_background": "light"
          }
        }
      ]
    },
    {
      "cell_type": "markdown",
      "metadata": {
        "id": "9JmGj8BQxh6l"
      },
      "source": [
        "#### Plotting the training and validation accuracy"
      ]
    },
    {
      "cell_type": "code",
      "metadata": {
        "id": "qRJH4bWjxh6l",
        "colab": {
          "base_uri": "https://localhost:8080/",
          "height": 295
        },
        "outputId": "82e30a8a-10fe-4ac1-d144-e61e945e4a4e"
      },
      "source": [
        "plt.clf()\n",
        "acc = history.history[\"accuracy\"]\n",
        "val_acc = history.history[\"val_accuracy\"]\n",
        "plt.plot(epochs, acc, \"bo\", label=\"Training accuracy\")\n",
        "plt.plot(epochs, val_acc, \"b\", label=\"Validation accuracy\")\n",
        "plt.title(\"Training and validation accuracy\")\n",
        "plt.xlabel(\"Epochs\")\n",
        "plt.ylabel(\"Accuracy\")\n",
        "plt.legend()\n",
        "plt.show()"
      ],
      "execution_count": 48,
      "outputs": [
        {
          "output_type": "display_data",
          "data": {
            "image/png": "[encoded data removed]",
            "text/plain": [
              "<Figure size 432x288 with 1 Axes>"
            ]
          },
          "metadata": {
            "tags": [],
            "needs_background": "light"
          }
        }
      ]
    },
    {
      "cell_type": "markdown",
      "metadata": {
        "id": "84mqw1BAy2wa"
      },
      "source": [
        "### (OPTIONAL) TODO 5\n",
        "\n",
        "Write code to try different combinations of:\n",
        "- numbers of hidden layers and units per layer \n",
        "\n",
        "Please refrain from using better architectures and \"advanced\" techniques to curb overfitting (e.g., dropout, batch normalization, weight regularization, etc.)"
      ]
    },
    {
      "cell_type": "markdown",
      "metadata": {
        "id": "UYlIZAhOxh6l"
      },
      "source": [
        "### Retraining a model from scratch"
      ]
    },
    {
      "cell_type": "code",
      "metadata": {
        "id": "Ijowt_xKxh6l",
        "colab": {
          "base_uri": "https://localhost:8080/"
        },
        "outputId": "94026185-bf1a-44c9-feca-b25d142f8cb8"
      },
      "source": [
        "model = keras.Sequential([\n",
        "  layers.Dense(64, activation=\"relu\"),\n",
        "  layers.Dense(64, activation=\"relu\"),\n",
        "  layers.Dense(46, activation=\"softmax\")\n",
        "])\n",
        "model.compile(optimizer=\"rmsprop\",\n",
        "              loss=\"categorical_crossentropy\",\n",
        "              metrics=[\"accuracy\"])\n",
        "model.fit(x_train,\n",
        "          y_train,\n",
        "          epochs=9,\n",
        "          batch_size=512)\n",
        "results = model.evaluate(x_test, y_test)"
      ],
      "execution_count": 49,
      "outputs": [
        {
          "output_type": "stream",
          "text": [
            "Epoch 1/9\n",
            "18/18 [==============================] - 1s 14ms/step - loss: 2.4779 - accuracy: 0.5155\n",
            "Epoch 2/9\n",
            "18/18 [==============================] - 0s 14ms/step - loss: 1.3622 - accuracy: 0.7104\n",
            "Epoch 3/9\n",
            "18/18 [==============================] - 0s 14ms/step - loss: 1.0199 - accuracy: 0.7820\n",
            "Epoch 4/9\n",
            "18/18 [==============================] - 0s 14ms/step - loss: 0.8107 - accuracy: 0.8248\n",
            "Epoch 5/9\n",
            "18/18 [==============================] - 0s 14ms/step - loss: 0.6480 - accuracy: 0.8595\n",
            "Epoch 6/9\n",
            "18/18 [==============================] - 0s 14ms/step - loss: 0.5278 - accuracy: 0.8830\n",
            "Epoch 7/9\n",
            "18/18 [==============================] - 0s 14ms/step - loss: 0.4276 - accuracy: 0.9084\n",
            "Epoch 8/9\n",
            "18/18 [==============================] - 0s 14ms/step - loss: 0.3490 - accuracy: 0.9255\n",
            "Epoch 9/9\n",
            "18/18 [==============================] - 0s 14ms/step - loss: 0.2910 - accuracy: 0.9362\n",
            "71/71 [==============================] - 0s 3ms/step - loss: 0.9430 - accuracy: 0.7898\n"
          ],
          "name": "stdout"
        }
      ]
    },
    {
      "cell_type": "code",
      "metadata": {
        "id": "kAIVUZb6xh6l",
        "colab": {
          "base_uri": "https://localhost:8080/"
        },
        "outputId": "46bce468-ec97-4699-e900-cbb858a9ccca"
      },
      "source": [
        "results"
      ],
      "execution_count": 50,
      "outputs": [
        {
          "output_type": "execute_result",
          "data": {
            "text/plain": [
              "[0.9430033564567566, 0.7898486256599426]"
            ]
          },
          "metadata": {
            "tags": []
          },
          "execution_count": 50
        }
      ]
    },
    {
      "cell_type": "code",
      "metadata": {
        "id": "HX4pyH29xh6l",
        "colab": {
          "base_uri": "https://localhost:8080/"
        },
        "outputId": "cca83daf-dfdd-4572-e59a-faba7d689b58"
      },
      "source": [
        "import copy\n",
        "test_labels_copy = copy.copy(test_labels)\n",
        "np.random.shuffle(test_labels_copy)\n",
        "hits_array = np.array(test_labels) == np.array(test_labels_copy)\n",
        "hits_array.mean()"
      ],
      "execution_count": 51,
      "outputs": [
        {
          "output_type": "execute_result",
          "data": {
            "text/plain": [
              "0.1856634016028495"
            ]
          },
          "metadata": {
            "tags": []
          },
          "execution_count": 51
        }
      ]
    },
    {
      "cell_type": "markdown",
      "metadata": {
        "id": "l3dqoSqLxh6l"
      },
      "source": [
        "### Generating predictions on new data"
      ]
    },
    {
      "cell_type": "code",
      "metadata": {
        "id": "uYgeNbuqtyXm"
      },
      "source": [
        "predictions = model.predict(x_test)"
      ],
      "execution_count": 52,
      "outputs": []
    },
    {
      "cell_type": "code",
      "metadata": {
        "colab": {
          "base_uri": "https://localhost:8080/"
        },
        "id": "wmT-HLN-tyXn",
        "outputId": "7d46501f-c7f6-4750-aa07-d074b15c78d8"
      },
      "source": [
        "predictions[0].shape"
      ],
      "execution_count": 53,
      "outputs": [
        {
          "output_type": "execute_result",
          "data": {
            "text/plain": [
              "(46,)"
            ]
          },
          "metadata": {
            "tags": []
          },
          "execution_count": 53
        }
      ]
    },
    {
      "cell_type": "code",
      "metadata": {
        "colab": {
          "base_uri": "https://localhost:8080/"
        },
        "id": "HRZlehzityXp",
        "outputId": "03f3f67a-7140-4901-d4e6-b02a047b3587"
      },
      "source": [
        "np.sum(predictions[0])"
      ],
      "execution_count": 54,
      "outputs": [
        {
          "output_type": "execute_result",
          "data": {
            "text/plain": [
              "1.0"
            ]
          },
          "metadata": {
            "tags": []
          },
          "execution_count": 54
        }
      ]
    },
    {
      "cell_type": "code",
      "metadata": {
        "colab": {
          "base_uri": "https://localhost:8080/"
        },
        "id": "YpKyKUaAtyXp",
        "outputId": "68f04f8e-dcc7-4abb-8f26-3a2de61a6d3d"
      },
      "source": [
        "np.argmax(predictions[0])"
      ],
      "execution_count": 55,
      "outputs": [
        {
          "output_type": "execute_result",
          "data": {
            "text/plain": [
              "4"
            ]
          },
          "metadata": {
            "tags": []
          },
          "execution_count": 55
        }
      ]
    },
    {
      "cell_type": "markdown",
      "metadata": {
        "id": "fl1SvjrIxh6m"
      },
      "source": [
        "## PART 3 - Regression for house price estimation using the Boston Housing Price dataset"
      ]
    },
    {
      "cell_type": "markdown",
      "metadata": {
        "id": "OxNY2Tttxh6m"
      },
      "source": [
        "### The Boston Housing Price dataset"
      ]
    },
    {
      "cell_type": "markdown",
      "metadata": {
        "id": "xH8hygQBxh6m"
      },
      "source": [
        "#### Loading the Boston housing dataset"
      ]
    },
    {
      "cell_type": "code",
      "metadata": {
        "id": "Bw_cuN9_xh6m",
        "colab": {
          "base_uri": "https://localhost:8080/"
        },
        "outputId": "c00398b0-6b98-4de8-addd-848e1c17f517"
      },
      "source": [
        "from tensorflow.keras.datasets import boston_housing\n",
        "(train_data, train_targets), (test_data, test_targets) = boston_housing.load_data()"
      ],
      "execution_count": 56,
      "outputs": [
        {
          "output_type": "stream",
          "text": [
            "Downloading data from https://storage.googleapis.com/tensorflow/tf-keras-datasets/boston_housing.npz\n",
            "57344/57026 [==============================] - 0s 0us/step\n"
          ],
          "name": "stdout"
        }
      ]
    },
    {
      "cell_type": "code",
      "metadata": {
        "id": "qcQzcVTTxh6m",
        "colab": {
          "base_uri": "https://localhost:8080/"
        },
        "outputId": "e936aa0b-2bb2-42bf-c82a-636a77a54991"
      },
      "source": [
        "train_data.shape"
      ],
      "execution_count": 57,
      "outputs": [
        {
          "output_type": "execute_result",
          "data": {
            "text/plain": [
              "(404, 13)"
            ]
          },
          "metadata": {
            "tags": []
          },
          "execution_count": 57
        }
      ]
    },
    {
      "cell_type": "code",
      "metadata": {
        "id": "mqRzjeWdxh6m",
        "colab": {
          "base_uri": "https://localhost:8080/"
        },
        "outputId": "9d427018-e673-4615-b9a7-f7f5d656ffc9"
      },
      "source": [
        "test_data.shape"
      ],
      "execution_count": 58,
      "outputs": [
        {
          "output_type": "execute_result",
          "data": {
            "text/plain": [
              "(102, 13)"
            ]
          },
          "metadata": {
            "tags": []
          },
          "execution_count": 58
        }
      ]
    },
    {
      "cell_type": "code",
      "metadata": {
        "id": "2DKZJfIFxh6m",
        "colab": {
          "base_uri": "https://localhost:8080/"
        },
        "outputId": "0ab4ab1b-f2d4-4f9e-c1bb-a925bead40c7"
      },
      "source": [
        "train_targets"
      ],
      "execution_count": 59,
      "outputs": [
        {
          "output_type": "execute_result",
          "data": {
            "text/plain": [
              "array([15.2, 42.3, 50. , 21.1, 17.7, 18.5, 11.3, 15.6, 15.6, 14.4, 12.1,\n",
              "       17.9, 23.1, 19.9, 15.7,  8.8, 50. , 22.5, 24.1, 27.5, 10.9, 30.8,\n",
              "       32.9, 24. , 18.5, 13.3, 22.9, 34.7, 16.6, 17.5, 22.3, 16.1, 14.9,\n",
              "       23.1, 34.9, 25. , 13.9, 13.1, 20.4, 20. , 15.2, 24.7, 22.2, 16.7,\n",
              "       12.7, 15.6, 18.4, 21. , 30.1, 15.1, 18.7,  9.6, 31.5, 24.8, 19.1,\n",
              "       22. , 14.5, 11. , 32. , 29.4, 20.3, 24.4, 14.6, 19.5, 14.1, 14.3,\n",
              "       15.6, 10.5,  6.3, 19.3, 19.3, 13.4, 36.4, 17.8, 13.5, 16.5,  8.3,\n",
              "       14.3, 16. , 13.4, 28.6, 43.5, 20.2, 22. , 23. , 20.7, 12.5, 48.5,\n",
              "       14.6, 13.4, 23.7, 50. , 21.7, 39.8, 38.7, 22.2, 34.9, 22.5, 31.1,\n",
              "       28.7, 46. , 41.7, 21. , 26.6, 15. , 24.4, 13.3, 21.2, 11.7, 21.7,\n",
              "       19.4, 50. , 22.8, 19.7, 24.7, 36.2, 14.2, 18.9, 18.3, 20.6, 24.6,\n",
              "       18.2,  8.7, 44. , 10.4, 13.2, 21.2, 37. , 30.7, 22.9, 20. , 19.3,\n",
              "       31.7, 32. , 23.1, 18.8, 10.9, 50. , 19.6,  5. , 14.4, 19.8, 13.8,\n",
              "       19.6, 23.9, 24.5, 25. , 19.9, 17.2, 24.6, 13.5, 26.6, 21.4, 11.9,\n",
              "       22.6, 19.6,  8.5, 23.7, 23.1, 22.4, 20.5, 23.6, 18.4, 35.2, 23.1,\n",
              "       27.9, 20.6, 23.7, 28. , 13.6, 27.1, 23.6, 20.6, 18.2, 21.7, 17.1,\n",
              "        8.4, 25.3, 13.8, 22.2, 18.4, 20.7, 31.6, 30.5, 20.3,  8.8, 19.2,\n",
              "       19.4, 23.1, 23. , 14.8, 48.8, 22.6, 33.4, 21.1, 13.6, 32.2, 13.1,\n",
              "       23.4, 18.9, 23.9, 11.8, 23.3, 22.8, 19.6, 16.7, 13.4, 22.2, 20.4,\n",
              "       21.8, 26.4, 14.9, 24.1, 23.8, 12.3, 29.1, 21. , 19.5, 23.3, 23.8,\n",
              "       17.8, 11.5, 21.7, 19.9, 25. , 33.4, 28.5, 21.4, 24.3, 27.5, 33.1,\n",
              "       16.2, 23.3, 48.3, 22.9, 22.8, 13.1, 12.7, 22.6, 15. , 15.3, 10.5,\n",
              "       24. , 18.5, 21.7, 19.5, 33.2, 23.2,  5. , 19.1, 12.7, 22.3, 10.2,\n",
              "       13.9, 16.3, 17. , 20.1, 29.9, 17.2, 37.3, 45.4, 17.8, 23.2, 29. ,\n",
              "       22. , 18. , 17.4, 34.6, 20.1, 25. , 15.6, 24.8, 28.2, 21.2, 21.4,\n",
              "       23.8, 31. , 26.2, 17.4, 37.9, 17.5, 20. ,  8.3, 23.9,  8.4, 13.8,\n",
              "        7.2, 11.7, 17.1, 21.6, 50. , 16.1, 20.4, 20.6, 21.4, 20.6, 36.5,\n",
              "        8.5, 24.8, 10.8, 21.9, 17.3, 18.9, 36.2, 14.9, 18.2, 33.3, 21.8,\n",
              "       19.7, 31.6, 24.8, 19.4, 22.8,  7.5, 44.8, 16.8, 18.7, 50. , 50. ,\n",
              "       19.5, 20.1, 50. , 17.2, 20.8, 19.3, 41.3, 20.4, 20.5, 13.8, 16.5,\n",
              "       23.9, 20.6, 31.5, 23.3, 16.8, 14. , 33.8, 36.1, 12.8, 18.3, 18.7,\n",
              "       19.1, 29. , 30.1, 50. , 50. , 22. , 11.9, 37.6, 50. , 22.7, 20.8,\n",
              "       23.5, 27.9, 50. , 19.3, 23.9, 22.6, 15.2, 21.7, 19.2, 43.8, 20.3,\n",
              "       33.2, 19.9, 22.5, 32.7, 22. , 17.1, 19. , 15. , 16.1, 25.1, 23.7,\n",
              "       28.7, 37.2, 22.6, 16.4, 25. , 29.8, 22.1, 17.4, 18.1, 30.3, 17.5,\n",
              "       24.7, 12.6, 26.5, 28.7, 13.3, 10.4, 24.4, 23. , 20. , 17.8,  7. ,\n",
              "       11.8, 24.4, 13.8, 19.4, 25.2, 19.4, 19.4, 29.1])"
            ]
          },
          "metadata": {
            "tags": []
          },
          "execution_count": 59
        }
      ]
    },
    {
      "cell_type": "markdown",
      "metadata": {
        "id": "mRV06OTNxh6m"
      },
      "source": [
        "### Preparing the data"
      ]
    },
    {
      "cell_type": "markdown",
      "metadata": {
        "id": "NUDEXKrnxh6m"
      },
      "source": [
        "#### Normalizing the data"
      ]
    },
    {
      "cell_type": "code",
      "metadata": {
        "id": "xTNRwpHZxh6m"
      },
      "source": [
        "mean = train_data.mean(axis=0)\n",
        "train_data -= mean\n",
        "std = train_data.std(axis=0)\n",
        "train_data /= std\n",
        "test_data -= mean\n",
        "test_data /= std"
      ],
      "execution_count": 60,
      "outputs": []
    },
    {
      "cell_type": "markdown",
      "metadata": {
        "id": "Ak5QuOrRxh6m"
      },
      "source": [
        "### Building your model"
      ]
    },
    {
      "cell_type": "markdown",
      "metadata": {
        "id": "5_LQDquRxh6m"
      },
      "source": [
        "#### Model definition"
      ]
    },
    {
      "cell_type": "code",
      "metadata": {
        "id": "EH4VsMNyxh6m"
      },
      "source": [
        "def build_model():\n",
        "    model = keras.Sequential([\n",
        "        layers.Dense(64, activation=\"relu\"),\n",
        "        layers.Dense(64, activation=\"relu\"),\n",
        "        layers.Dense(1)\n",
        "    ])\n",
        "    model.compile(optimizer=\"rmsprop\", loss=\"mse\", metrics=[\"mae\"])\n",
        "    return model"
      ],
      "execution_count": 61,
      "outputs": []
    },
    {
      "cell_type": "markdown",
      "metadata": {
        "id": "8_Y_2x1bxh6m"
      },
      "source": [
        "### Validating your approach using K-fold validation"
      ]
    },
    {
      "cell_type": "code",
      "metadata": {
        "id": "lP3j1z76xh6m",
        "colab": {
          "base_uri": "https://localhost:8080/"
        },
        "outputId": "c11fbe9f-99cb-4d53-8ce0-c8c18877fbf7"
      },
      "source": [
        "k = 4\n",
        "num_val_samples = len(train_data) // k\n",
        "num_epochs = 100\n",
        "all_scores = []\n",
        "for i in range(k):\n",
        "    print(f\"Processing fold #{i}\")\n",
        "    val_data = train_data[i * num_val_samples: (i + 1) * num_val_samples]\n",
        "    val_targets = train_targets[i * num_val_samples: (i + 1) * num_val_samples]\n",
        "    partial_train_data = np.concatenate(\n",
        "        [train_data[:i * num_val_samples],\n",
        "         train_data[(i + 1) * num_val_samples:]],\n",
        "        axis=0)\n",
        "    partial_train_targets = np.concatenate(\n",
        "        [train_targets[:i * num_val_samples],\n",
        "         train_targets[(i + 1) * num_val_samples:]],\n",
        "        axis=0)\n",
        "    model = build_model()\n",
        "    model.fit(partial_train_data, partial_train_targets,\n",
        "              epochs=num_epochs, batch_size=16, verbose=0)\n",
        "    val_mse, val_mae = model.evaluate(val_data, val_targets, verbose=0)\n",
        "    all_scores.append(val_mae)"
      ],
      "execution_count": 62,
      "outputs": [
        {
          "output_type": "stream",
          "text": [
            "Processing fold #0\n",
            "Processing fold #1\n",
            "Processing fold #2\n",
            "Processing fold #3\n"
          ],
          "name": "stdout"
        }
      ]
    },
    {
      "cell_type": "code",
      "metadata": {
        "id": "nj-3RiYaxh6m",
        "colab": {
          "base_uri": "https://localhost:8080/"
        },
        "outputId": "695320ca-e82d-4754-d470-0b743929081b"
      },
      "source": [
        "all_scores"
      ],
      "execution_count": 63,
      "outputs": [
        {
          "output_type": "execute_result",
          "data": {
            "text/plain": [
              "[1.8576362133026123, 2.382404327392578, 2.424639940261841, 2.4216909408569336]"
            ]
          },
          "metadata": {
            "tags": []
          },
          "execution_count": 63
        }
      ]
    },
    {
      "cell_type": "code",
      "metadata": {
        "id": "TbaipzZZxh6m",
        "colab": {
          "base_uri": "https://localhost:8080/"
        },
        "outputId": "04fbb50d-15be-4262-dd95-8de973102354"
      },
      "source": [
        "np.mean(all_scores)"
      ],
      "execution_count": 64,
      "outputs": [
        {
          "output_type": "execute_result",
          "data": {
            "text/plain": [
              "2.271592855453491"
            ]
          },
          "metadata": {
            "tags": []
          },
          "execution_count": 64
        }
      ]
    },
    {
      "cell_type": "markdown",
      "metadata": {
        "id": "AvBk8lMRxh6m"
      },
      "source": [
        "#### Saving the validation logs at each fold"
      ]
    },
    {
      "cell_type": "code",
      "metadata": {
        "id": "-VaF--Ztxh6m",
        "colab": {
          "base_uri": "https://localhost:8080/"
        },
        "outputId": "a06d1e99-584f-4f0c-f56d-b1cb31c8476d"
      },
      "source": [
        "num_epochs = 500\n",
        "all_mae_histories = []\n",
        "for i in range(k):\n",
        "    print(f\"Processing fold #{i}\")\n",
        "    val_data = train_data[i * num_val_samples: (i + 1) * num_val_samples]\n",
        "    val_targets = train_targets[i * num_val_samples: (i + 1) * num_val_samples]\n",
        "    partial_train_data = np.concatenate(\n",
        "        [train_data[:i * num_val_samples],\n",
        "         train_data[(i + 1) * num_val_samples:]],\n",
        "        axis=0)\n",
        "    partial_train_targets = np.concatenate(\n",
        "        [train_targets[:i * num_val_samples],\n",
        "         train_targets[(i + 1) * num_val_samples:]],\n",
        "        axis=0)\n",
        "    model = build_model()\n",
        "    history = model.fit(partial_train_data, partial_train_targets,\n",
        "                        validation_data=(val_data, val_targets),\n",
        "                        epochs=num_epochs, batch_size=16, verbose=0)\n",
        "    mae_history = history.history[\"val_mae\"]\n",
        "    all_mae_histories.append(mae_history)"
      ],
      "execution_count": 65,
      "outputs": [
        {
          "output_type": "stream",
          "text": [
            "Processing fold #0\n",
            "Processing fold #1\n",
            "Processing fold #2\n",
            "Processing fold #3\n"
          ],
          "name": "stdout"
        }
      ]
    },
    {
      "cell_type": "markdown",
      "metadata": {
        "id": "qxhUlr1bxh6m"
      },
      "source": [
        "#### Building the history of successive mean K-fold validation scores"
      ]
    },
    {
      "cell_type": "code",
      "metadata": {
        "id": "scyLRwsnxh6m"
      },
      "source": [
        "average_mae_history = [\n",
        "    np.mean([x[i] for x in all_mae_histories]) for i in range(num_epochs)]"
      ],
      "execution_count": 66,
      "outputs": []
    },
    {
      "cell_type": "markdown",
      "metadata": {
        "id": "tL1rhvLNxh6m"
      },
      "source": [
        "#### Plotting validation scores"
      ]
    },
    {
      "cell_type": "code",
      "metadata": {
        "id": "_AtGOs8kxh6n",
        "colab": {
          "base_uri": "https://localhost:8080/",
          "height": 280
        },
        "outputId": "8a73a8c4-8042-4465-e750-e1c24b141d8e"
      },
      "source": [
        "plt.plot(range(1, len(average_mae_history) + 1), average_mae_history)\n",
        "plt.xlabel(\"Epochs\")\n",
        "plt.ylabel(\"Validation MAE\")\n",
        "plt.show()"
      ],
      "execution_count": 67,
      "outputs": [
        {
          "output_type": "display_data",
          "data": {
            "image/png": "[encoded data removed]",
            "text/plain": [
              "<Figure size 432x288 with 1 Axes>"
            ]
          },
          "metadata": {
            "tags": [],
            "needs_background": "light"
          }
        }
      ]
    },
    {
      "cell_type": "markdown",
      "metadata": {
        "id": "88VzqTeDxh6n"
      },
      "source": [
        "#### Plotting validation scores, excluding the first 10 data points"
      ]
    },
    {
      "cell_type": "code",
      "metadata": {
        "id": "nJcHbmEjxh6n",
        "colab": {
          "base_uri": "https://localhost:8080/",
          "height": 279
        },
        "outputId": "3a1a064f-57c3-440e-929e-3d8fb97f311e"
      },
      "source": [
        "truncated_mae_history = average_mae_history[10:]\n",
        "plt.plot(range(1, len(truncated_mae_history) + 1), truncated_mae_history)\n",
        "plt.xlabel(\"Epochs\")\n",
        "plt.ylabel(\"Validation MAE\")\n",
        "plt.show()"
      ],
      "execution_count": 68,
      "outputs": [
        {
          "output_type": "display_data",
          "data": {
            "image/png": "[encoded data removed]",
            "text/plain": [
              "<Figure size 432x288 with 1 Axes>"
            ]
          },
          "metadata": {
            "tags": [],
            "needs_background": "light"
          }
        }
      ]
    },
    {
      "cell_type": "markdown",
      "metadata": {
        "id": "64vzjBATxh6n"
      },
      "source": [
        "### Training the final model"
      ]
    },
    {
      "cell_type": "code",
      "metadata": {
        "id": "0VDrjPVZxh6n",
        "colab": {
          "base_uri": "https://localhost:8080/"
        },
        "outputId": "0496026b-3f5f-4311-8106-927b5310009b"
      },
      "source": [
        "model = build_model()\n",
        "model.fit(train_data, train_targets,\n",
        "          epochs=130, batch_size=16, verbose=0)\n",
        "test_mse_score, test_mae_score = model.evaluate(test_data, test_targets)"
      ],
      "execution_count": 69,
      "outputs": [
        {
          "output_type": "stream",
          "text": [
            "4/4 [==============================] - 0s 4ms/step - loss: 15.3467 - mae: 2.5222\n"
          ],
          "name": "stdout"
        }
      ]
    },
    {
      "cell_type": "code",
      "metadata": {
        "id": "3hZCLbhbxh6n",
        "colab": {
          "base_uri": "https://localhost:8080/"
        },
        "outputId": "ff1d1d51-1e0e-41c3-e71b-a8f74585d0a4"
      },
      "source": [
        "test_mae_score"
      ],
      "execution_count": 70,
      "outputs": [
        {
          "output_type": "execute_result",
          "data": {
            "text/plain": [
              "2.522247552871704"
            ]
          },
          "metadata": {
            "tags": []
          },
          "execution_count": 70
        }
      ]
    },
    {
      "cell_type": "markdown",
      "metadata": {
        "id": "DowlbY9Sxh6n"
      },
      "source": [
        "### Generating predictions on new data"
      ]
    },
    {
      "cell_type": "code",
      "metadata": {
        "id": "qSVLepPHxh6n",
        "colab": {
          "base_uri": "https://localhost:8080/"
        },
        "outputId": "08a5ef3a-1917-41c3-a735-1df014349fe5"
      },
      "source": [
        "predictions = model.predict(test_data)\n",
        "predictions[0]"
      ],
      "execution_count": 71,
      "outputs": [
        {
          "output_type": "execute_result",
          "data": {
            "text/plain": [
              "array([7.573135], dtype=float32)"
            ]
          },
          "metadata": {
            "tags": []
          },
          "execution_count": 71
        }
      ]
    },
    {
      "cell_type": "markdown",
      "metadata": {
        "id": "cNxMzaMt2kp7"
      },
      "source": [
        "### (OPTIONAL) TODO 6\n",
        "\n",
        "Write code to try different combinations of:\n",
        "- K for K-fold validation\n",
        "- number of epochs\n",
        "- number of units per hidden layer\n",
        "- number of hidden layers \n",
        "\n",
        "Please refrain from using better architectures and \"advanced\" techniques to curb overfitting (e.g., dropout, batch normalization, weight regularization, etc.)"
      ]
    },
    {
      "cell_type": "markdown",
      "metadata": {
        "id": "8SoeBbpo3brk"
      },
      "source": [
        "### CONCLUSIONS"
      ]
    },
    {
      "cell_type": "markdown",
      "metadata": {
        "id": "YKuaczBa3_5O"
      },
      "source": [
        "***Part 1:***\n",
        "\n",
        "**(1)What type of preprocessing was applied to the raw input data? Why was it necessary to do so?**\n",
        "\n",
        "- The type of preprocessing that is applied to the raw input data is multi-hot encoding. This is done because data can sometimes be in a format that the algorithm is not able to handle properly. As was seen in the textbook, here the data is being vectorized so that it is easier to handle and manipulate\n",
        "\n",
        "**(2)Does your model suffer from overfitting?If so, what would you suggest doing about it?**\n",
        "\n",
        "- From the graphs we can see that our model is overfitting since the training loss is lower than the validating loss. One possible solution is training the network with more examples, or maybe changing the complexity of the NN, whether that be by changing the amount of weigths or the value of the weights\n",
        "\n",
        "**(3)Is accuracy a good metric of success in this case? Why (not)?**\n",
        "\n",
        "- In this case, accuracy is not a good metric of success since we saw that our model is overfit and the gap between training accuracy and validation accuracy is too great\n",
        "\n",
        "\n",
        "\n",
        "***Part 2:***\n",
        "\n",
        "**(1)What type of preprocessing was applied to the raw input data? Why was it necessary to do so?**\n",
        "\n",
        "- In this instance the preprocessing that is done to the raw input data is one-hot encoding which much like in part1 is vectorizing the labels and enumerating them so the machine is able to handle the data better. \n",
        "\n",
        "**(2)How many categories are there in this case?**\n",
        "\n",
        "-In this case there are 20 categories\n",
        "\n",
        "**(3)Does your model suffer from overfitting?If so, what would you suggest doing about it?**\n",
        "\n",
        "- From the graphs we can see that our model is overfitting since the training loss is lower than the validating loss. One possible solution is training the network with more examples, or maybe changing the complexity of the NN, whether that be by changing the amount of weigths or the value of the weights\n",
        "\n",
        "**(4)Is accuracy a good metric of success in this case? Why (not)?**\n",
        "\n",
        "- In this case, accuracy is not a good metric of success since we saw that our model is overfit and the gap between training accuracy and validation accuracy is too great\n",
        "\n",
        "\n",
        "***Part 3:***\n",
        "\n",
        "**(1)What type of preprocessing was applied to the raw input data? Why was it necessary to do so?**\n",
        "\n",
        "- In this case the data is nomalized so that the ranges of the data do not vary too much. This makes it easier for the machine to handle the input. \n",
        "\n",
        "**(2)Why is this problem a case of regression(rather than classification)?**\n",
        "\n",
        "- Classification deals with predicting a discrete class label outputs while this one is trying to predict a continous quantity output. \n",
        "\n",
        "\n",
        "**(3)Does your model suffer from overfitting?If so, what would you suggest doing about it?**\n",
        "\n",
        "- I believe it does since the MAE is increasing. Although it is lower than it was in the beginning we can see that overall it is slowly increasing. To combat this we may try regularization, reducing parameters, or even having less epochs. \n",
        "\n",
        "**(4)Is mean absolute error(MAE)a good metric of success in this case? Why (not)?**\n",
        "\n",
        "- In this case MAE is a good metric of success since it measures the average magnitude of errors in the prediction. This helps us see how well the neural network performed since we can see the errors found."
      ]
    },
    {
      "cell_type": "markdown",
      "metadata": {
        "id": "yjgPHIeJHLm0"
      },
      "source": [
        "## Lesson Learned\n",
        "\n",
        "From this assignment I was able to dive deeper into deep learning and see what capabilities neural networks had to offer. This assignment was able to clear up concepts introduced in the textbook and allowed me to play around with the ideas explained. Each step was broken down and explained very well and the flow of information was easy to understand."
      ]
    }
  ]
}